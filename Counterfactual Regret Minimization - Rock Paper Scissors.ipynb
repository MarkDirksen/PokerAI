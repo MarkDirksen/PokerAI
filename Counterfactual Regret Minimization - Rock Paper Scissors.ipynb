{
 "cells": [
  {
   "cell_type": "code",
   "execution_count": null,
   "metadata": {},
   "outputs": [],
   "source": [
    "http://www.cs.cmu.edu/~avrim/Papers/regret-chapter.pdf"
   ]
  },
  {
   "cell_type": "code",
   "execution_count": 2,
   "metadata": {},
   "outputs": [],
   "source": [
    "import numpy as np"
   ]
  },
  {
   "cell_type": "code",
   "execution_count": 4,
   "metadata": {},
   "outputs": [
    {
     "name": "stdout",
     "output_type": "stream",
     "text": [
      "[0.03138753 0.14817045]\n",
      "[0.31798308 0.83895638]\n"
     ]
    }
   ],
   "source": [
    "draw1 = np.sort(np.random.random_sample(2))\n",
    "draw2 = np.sort(np.random.random_sample(2))\n",
    "\n",
    "print(draw1)\n",
    "print(draw2)"
   ]
  },
  {
   "cell_type": "code",
   "execution_count": 9,
   "metadata": {},
   "outputs": [
    {
     "name": "stdout",
     "output_type": "stream",
     "text": [
      "The initial probabilities of choosing rock, paper or scissors for player one are: \n",
      "[0.03138753071275968, 0.11678291961191023, 0.8518295496753301]\n",
      "And for player 2 they are: \n",
      "[0.3179830783499936, 0.5209733055913006, 0.16104361605870576]\n"
     ]
    }
   ],
   "source": [
    "initial_distribution_player1 = [draw1[0],draw1[1] - draw1[0],1-draw1[1]]\n",
    "initial_distribution_player2 = [draw2[0],draw2[1] - draw2[0],1-draw2[1]]\n",
    "print(\"The initial probabilities of choosing rock, paper or scissors for player one are: \")\n",
    "print(initial_distribution_player1)\n",
    "print(\"And for player 2 they are: \")\n",
    "print(initial_distribution_player2)"
   ]
  },
  {
   "cell_type": "markdown",
   "metadata": {},
   "source": []
  }
 ],
 "metadata": {
  "kernelspec": {
   "display_name": "PokerAI",
   "language": "python",
   "name": "pokerai"
  },
  "language_info": {
   "codemirror_mode": {
    "name": "ipython",
    "version": 3
   },
   "file_extension": ".py",
   "mimetype": "text/x-python",
   "name": "python",
   "nbconvert_exporter": "python",
   "pygments_lexer": "ipython3",
   "version": "3.8.5"
  }
 },
 "nbformat": 4,
 "nbformat_minor": 4
}
