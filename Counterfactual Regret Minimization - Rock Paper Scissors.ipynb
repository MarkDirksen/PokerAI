{
 "cells": [
  {
   "cell_type": "markdown",
   "metadata": {},
   "source": [
    "http://www.cs.cmu.edu/~avrim/Papers/regret-chapter.pdf\n",
    "http://modelai.gettysburg.edu/2013/cfr/cfr.pdf"
   ]
  },
  {
   "cell_type": "code",
   "execution_count": 3,
   "metadata": {},
   "outputs": [],
   "source": [
    "import numpy as np"
   ]
  },
  {
   "cell_type": "code",
   "execution_count": 4,
   "metadata": {},
   "outputs": [
    {
     "name": "stdout",
     "output_type": "stream",
     "text": [
      "[0.28308115 0.6231513 ]\n",
      "[0.5059513  0.55848817]\n"
     ]
    }
   ],
   "source": [
    "draw1 = np.sort(np.random.random_sample(2))\n",
    "draw2 = np.sort(np.random.random_sample(2))\n",
    "\n",
    "print(draw1)\n",
    "print(draw2)"
   ]
  },
  {
   "cell_type": "code",
   "execution_count": 7,
   "metadata": {},
   "outputs": [
    {
     "name": "stdout",
     "output_type": "stream",
     "text": [
      "The initial probabilities of choosing rock, paper or scissors for player 1 are: \n",
      "[0.3333333333333333, 0.3333333333333333, 0.3333333333333333]\n",
      "And for player 2 they are: \n",
      "[0.3333333333333333, 0.3333333333333333, 0.3333333333333333]\n"
     ]
    }
   ],
   "source": [
    "initial_distribution_player1 = [1/3]*3\n",
    "initial_distribution_player2 = [draw2[0],draw2[1] - draw2[0],1-draw2[1]]\n",
    "print(\"The initial probabilities of choosing rock, paper or scissors for player 1 are: \")\n",
    "print(initial_distribution_player1)\n",
    "print(\"And for player 2 they are: \")\n",
    "print(initial_distribution_player2)"
   ]
  },
  {
   "cell_type": "code",
   "execution_count": null,
   "metadata": {},
   "outputs": [],
   "source": [
    "#initialize cumulative regret for player 1 and player 2\n",
    "cumulative_regret_1 = [0,0,0]\n",
    "cumulative_regret_2 = [0,0,0]"
   ]
  },
  {
   "cell_type": "code",
   "execution_count": 61,
   "metadata": {},
   "outputs": [],
   "source": [
    "def draw_rock_paper_scissors(cumulative_regret):\n",
    "    \n",
    "    random_draw = np.random.random_sample(1)\n",
    "    \n",
    "    if sum(cumulative_regret) == 0:\n",
    "        probabilities = [1/3]*3   \n",
    "    else:\n",
    "        probabilities = [i / sum(cumulative_regret) for i in cumulative_regret]\n",
    "        \n",
    "    if random_draw <= probabilities[0]:\n",
    "        return(\"rock\")\n",
    "    elif random_draw <= sum(probabilities[0:2]):\n",
    "        return(\"paper\")\n",
    "    else:\n",
    "        return(\"scissors\")\n",
    "    \n",
    "def result_game(action1,action2):\n",
    "    if action1 == action2:\n",
    "        return(0)\n",
    "    elif action1 == 'rock':\n",
    "        if action2 == 'paper':\n",
    "            return(-1)\n",
    "        else:\n",
    "            return(1)\n",
    "    elif action1 == 'paper':\n",
    "        if action2 == 'scissors':\n",
    "            return(-1)\n",
    "        else:\n",
    "            return(1)\n",
    "    elif action1 == 'scissors':\n",
    "        if action2 == 'rock':\n",
    "            return(-1)\n",
    "        else:\n",
    "            return(1)\n",
    "    \n",
    "    \n",
    "def calculate_regret(action1,action2):\n",
    "    \n",
    "    options = ['rock', 'paper', 'scissors']\n",
    "    actual_result = result_game(action1,action2)\n",
    "    return([result_game(i, action2) - actual_result for i in options])\n",
    "        \n"
   ]
  },
  {
   "cell_type": "code",
   "execution_count": 62,
   "metadata": {},
   "outputs": [
    {
     "name": "stdout",
     "output_type": "stream",
     "text": [
      "118\n",
      "207\n",
      "675\n"
     ]
    }
   ],
   "source": [
    "test = []\n",
    "for i in range(1000):\n",
    "    test.append(draw_rock_paper_scissors([5,10,30]))\n",
    "    \n",
    "print(test.count('rock'))\n",
    "print(test.count('paper'))\n",
    "print(test.count('scissors'))"
   ]
  },
  {
   "cell_type": "code",
   "execution_count": 63,
   "metadata": {},
   "outputs": [
    {
     "name": "stdout",
     "output_type": "stream",
     "text": [
      "if player chooses rock and player 2 chooses rock then the result for player1 equals 0\n",
      "if player chooses rock and player 2 chooses paper then the result for player1 equals -1\n",
      "if player chooses rock and player 2 chooses scissors then the result for player1 equals 1\n",
      "if player chooses paper and player 2 chooses rock then the result for player1 equals 1\n",
      "if player chooses paper and player 2 chooses paper then the result for player1 equals 0\n",
      "if player chooses paper and player 2 chooses scissors then the result for player1 equals -1\n",
      "if player chooses scissors and player 2 chooses rock then the result for player1 equals -1\n",
      "if player chooses scissors and player 2 chooses paper then the result for player1 equals 1\n",
      "if player chooses scissors and player 2 chooses scissors then the result for player1 equals 0\n"
     ]
    }
   ],
   "source": [
    "options = ['rock', 'paper', 'scissors']\n",
    "for i,j in [(i,j) for i in options for j in options]:\n",
    "    print('if player chooses ' + i + ' and player 2 chooses ' + j + ' then the result for player1 equals ' + str(result_game(i,j)))"
   ]
  },
  {
   "cell_type": "code",
   "execution_count": 64,
   "metadata": {},
   "outputs": [
    {
     "name": "stdout",
     "output_type": "stream",
     "text": [
      "if player chooses rock and player 2 chooses rock then the regret for player1 equals [0, 1, -1]\n",
      "if player chooses rock and player 2 chooses paper then the regret for player1 equals [0, 1, 2]\n",
      "if player chooses rock and player 2 chooses scissors then the regret for player1 equals [0, -2, -1]\n",
      "if player chooses paper and player 2 chooses rock then the regret for player1 equals [-1, 0, -2]\n",
      "if player chooses paper and player 2 chooses paper then the regret for player1 equals [-1, 0, 1]\n",
      "if player chooses paper and player 2 chooses scissors then the regret for player1 equals [2, 0, 1]\n",
      "if player chooses scissors and player 2 chooses rock then the regret for player1 equals [1, 2, 0]\n",
      "if player chooses scissors and player 2 chooses paper then the regret for player1 equals [-2, -1, 0]\n",
      "if player chooses scissors and player 2 chooses scissors then the regret for player1 equals [1, -1, 0]\n"
     ]
    }
   ],
   "source": [
    "options = ['rock', 'paper', 'scissors']\n",
    "for i,j in [(i,j) for i in options for j in options]:\n",
    "    print('if player chooses ' + i + ' and player 2 chooses ' + j + ' then the regret for player1 equals ' + str(calculate_regret(i,j)))"
   ]
  },
  {
   "cell_type": "code",
   "execution_count": null,
   "metadata": {},
   "outputs": [],
   "source": [
    "n_games = 1000\n",
    "\n"
   ]
  }
 ],
 "metadata": {
  "kernelspec": {
   "display_name": "PokerAI",
   "language": "python",
   "name": "pokerai"
  },
  "language_info": {
   "codemirror_mode": {
    "name": "ipython",
    "version": 3
   },
   "file_extension": ".py",
   "mimetype": "text/x-python",
   "name": "python",
   "nbconvert_exporter": "python",
   "pygments_lexer": "ipython3",
   "version": "3.7.6"
  }
 },
 "nbformat": 4,
 "nbformat_minor": 4
}
